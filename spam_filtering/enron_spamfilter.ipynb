{
 "cells": [
  {
   "cell_type": "code",
   "execution_count": 1,
   "metadata": {
    "collapsed": true
   },
   "outputs": [],
   "source": [
    "# -*- coding: utf-8 -*-\n",
    "\n",
    "import os\n",
    "import numpy as np\n",
    "from collections import Counter\n",
    "from sklearn.model_selection import train_test_split\n",
    "from sklearn.naive_bayes import MultinomialNB\n",
    "from sklearn import metrics\n",
    "from sklearn.metrics import confusion_matrix\n",
    "from sklearn.svm import LinearSVC"
   ]
  },
  {
   "cell_type": "code",
   "execution_count": 2,
   "metadata": {
    "collapsed": true
   },
   "outputs": [],
   "source": [
    "def make_Dictionary(root_dir):\n",
    "    emails_dirs = [os.path.join(root_dir,f) for f in os.listdir(root_dir)]\n",
    "    all_words = []\n",
    "    for emails_dir in emails_dirs:\n",
    "        dirs = [os.path.join(emails_dir,f) for f in os.listdir(emails_dir)]\n",
    "        for d in dirs:\n",
    "            emails = [os.path.join(d,f) for f in os.listdir(d)]\n",
    "            for mail in emails:\n",
    "                with open(mail) as m:\n",
    "                    for line in m:\n",
    "                        words = line.split()\n",
    "                        all_words += words\n",
    "    dictionary = Counter(all_words)\n",
    "    list_to_remove = dictionary.keys()\n",
    "    \n",
    "    for item in list_to_remove:\n",
    "        if item.isalpha() == False: \n",
    "            del dictionary[item]\n",
    "        elif len(item) == 1:\n",
    "            del dictionary[item]\n",
    "    dictionary = dictionary.most_common(3000)\n",
    "    \n",
    "    np.save('dict_enron.npy',dictionary)\n",
    "    \n",
    "    return dictionary\n",
    "    "
   ]
  },
  {
   "cell_type": "code",
   "execution_count": 3,
   "metadata": {
    "collapsed": true
   },
   "outputs": [],
   "source": [
    "def extract_features(root_dir): \n",
    "    emails_dirs = [os.path.join(root_dir,f) for f in os.listdir(root_dir)]  \n",
    "    docID = 0\n",
    "    features_matrix = np.zeros((33716,3000))\n",
    "    train_labels = np.zeros(33716)\n",
    "    for emails_dir in emails_dirs:\n",
    "        dirs = [os.path.join(emails_dir,f) for f in os.listdir(emails_dir)]\n",
    "        for d in dirs:\n",
    "            emails = [os.path.join(d,f) for f in os.listdir(d)]\n",
    "            for mail in emails:\n",
    "                with open(mail) as m:\n",
    "                    all_words = []\n",
    "                    for line in m:\n",
    "                        words = line.split()\n",
    "                        all_words += words\n",
    "                    for word in all_words:\n",
    "                      wordID = 0\n",
    "                      for i,d in enumerate(dictionary):\n",
    "                        if d[0] == word:\n",
    "                          wordID = i\n",
    "                          features_matrix[docID,wordID] = all_words.count(word)\n",
    "                train_labels[docID] = int(mail.split(\".\")[-2] == 'spam')\n",
    "                docID = docID + 1                \n",
    "    return features_matrix,train_labels\n",
    " "
   ]
  },
  {
   "cell_type": "code",
   "execution_count": 4,
   "metadata": {
    "collapsed": true
   },
   "outputs": [],
   "source": [
    "#Create a dictionary of words with its frequency\n",
    "root_dir = 'Enron-data-set'\n",
    "dictionary = make_Dictionary(root_dir)"
   ]
  },
  {
   "cell_type": "code",
   "execution_count": 5,
   "metadata": {
    "collapsed": true
   },
   "outputs": [],
   "source": [
    "#Prepare feature vectors per training mail and its labels\n",
    "features_matrix,labels = extract_features(root_dir)\n",
    "np.save('enron_features_matrix.npy',features_matrix)\n",
    "np.save('enron_labels.npy',labels)"
   ]
  },
  {
   "cell_type": "code",
   "execution_count": 6,
   "metadata": {},
   "outputs": [
    {
     "name": "stdout",
     "output_type": "stream",
     "text": [
      "(33716, 3000)\n",
      "(33716,)\n",
      "16545 17171\n"
     ]
    }
   ],
   "source": [
    "#train_matrix = np.load('enron_features_matrix.npy');\n",
    "#labels = np.load('enron_labels.npy');\n",
    "print features_matrix.shape\n",
    "print labels.shape\n",
    "print sum(labels==0),sum(labels==1)\n",
    "X_train, X_test, y_train, y_test = train_test_split(features_matrix, labels, test_size=0.30)"
   ]
  },
  {
   "cell_type": "code",
   "execution_count": 7,
   "metadata": {},
   "outputs": [
    {
     "name": "stdout",
     "output_type": "stream",
     "text": [
      "[[4897  130]\n",
      " [  89 4999]]\n",
      "[[4858  169]\n",
      " [ 112 4976]]\n"
     ]
    }
   ],
   "source": [
    "## Training models and its variants\n",
    "model1 = LinearSVC()\n",
    "model2 = MultinomialNB()\n",
    "\n",
    "model1.fit(X_train,y_train)\n",
    "model2.fit(X_train,y_train)\n",
    "\n",
    "result1 = model1.predict(X_test)\n",
    "result2 = model2.predict(X_test)\n",
    "\n",
    "print confusion_matrix(y_test, result1)\n",
    "print confusion_matrix(y_test, result2)"
   ]
  },
  {
   "cell_type": "code",
   "execution_count": 10,
   "metadata": {},
   "outputs": [
    {
     "name": "stdout",
     "output_type": "stream",
     "text": [
      "SVM precision: 97.47%, recall: 98.25%\n"
     ]
    }
   ],
   "source": [
    "precision1 = metrics.precision_score(y_test, result1)\n",
    "recall1 = metrics.recall_score(y_test, result1)\n",
    "print 'SVM precision: %.2f%%, recall: %.2f%%' % (100 * precision1, 100 * recall1)"
   ]
  },
  {
   "cell_type": "code",
   "execution_count": 12,
   "metadata": {},
   "outputs": [
    {
     "name": "stdout",
     "output_type": "stream",
     "text": [
      "MultinomialNB precision: 96.72%, recall: 97.80%\n"
     ]
    }
   ],
   "source": [
    "precision2 = metrics.precision_score(y_test, result2)\n",
    "recall2 = metrics.recall_score(y_test, result2)\n",
    "print 'MultinomialNB precision: %.2f%%, recall: %.2f%%' % (100 * precision2, 100 * recall2)"
   ]
  },
  {
   "cell_type": "code",
   "execution_count": null,
   "metadata": {
    "collapsed": true
   },
   "outputs": [],
   "source": []
  }
 ],
 "metadata": {
  "kernelspec": {
   "display_name": "Python 2",
   "language": "python",
   "name": "python2"
  },
  "language_info": {
   "codemirror_mode": {
    "name": "ipython",
    "version": 2
   },
   "file_extension": ".py",
   "mimetype": "text/x-python",
   "name": "python",
   "nbconvert_exporter": "python",
   "pygments_lexer": "ipython2",
   "version": "2.7.13"
  }
 },
 "nbformat": 4,
 "nbformat_minor": 2
}
